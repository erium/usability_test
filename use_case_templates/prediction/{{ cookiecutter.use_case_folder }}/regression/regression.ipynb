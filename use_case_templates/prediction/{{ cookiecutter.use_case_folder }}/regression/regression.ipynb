{
 "cells": [
  {
   "cell_type": "markdown",
   "metadata": {
    "id": "8782724a-4360-4f93-abd9-d543a3a1fe75"
   },
   "source": [
    "# Regression\n",
    "\n",
    "This is a template notebook for regression modelling.\n",
    "\n",
    "Author: {{ cookiecutter.author_name }}\n",
    "Created: {{ cookiecutter.timestamp }}\n"
   ]
  },
  {
   "cell_type": "markdown",
   "metadata": {
    "id": "1f4cc870-9da7-4624-90bb-04617664fab1"
   },
   "source": [
    "## How to use the notebook\n",
    "\n",
    "The following cells:\n",
    "- specify objective, variables, and variable types,\n",
    "- set up the regression models,\n",
    "- read dataset,\n",
    "- present results from the model,\n",
    "- provide the model with the best performance.\n",
    "\n",
    "By default, the notebook is set up to run with an example (sklearn diabetes). To see how it works, run the notebook without changing the code.\n",
    "\n",
    "For your project, adjust the code in the linked cells with your objectives, variables, dataset etc. and then execute all cells in order.\n",
    "\n",
    "Please refer to regression.board for detailed instructions."
   ]
  },
  {
   "cell_type": "markdown",
   "metadata": {
    "id": "52dec34e-2f1b-4037-962d-ffcc6e18fb60"
   },
   "source": [
    "## Parameter Setup\n",
    "The following parameters and variables should be adjusted based on your data and experimental objectives"
   ]
  },
  {
   "cell_type": "markdown",
   "metadata": {
    "id": "ea1ee863-4786-453e-a48e-5c1166eeccb9"
   },
   "source": [
    "### Project"
   ]
  },
  {
   "cell_type": "code",
   "connections": [
    {
     "endLine": 1,
     "id": "7fdf6e4e-4984-41b4-be7c-b542c35c2368",
     "startLine": 1
    }
   ],
   "execution_count": 1,
   "metadata": {
    "id": "33549e34-886f-4649-b660-f6a739be866a"
   },
   "outputs": [],
   "source": [
    "experiment_name = 'regression'  # please provide a name for the regression experiment\n",
    "from regression_imports import *"
   ]
  },
  {
   "cell_type": "markdown",
   "metadata": {
    "id": "4c39011a-6794-4f79-8f68-d61320ec8858"
   },
   "source": [
    "### Dataset"
   ]
  },
  {
   "cell_type": "code",
   "connections": [
    {
     "endLine": 1,
     "id": "cf82b78d-4027-47e7-a08e-22d5b8c1d7af",
     "startLine": 1
    }
   ],
   "execution_count": 2,
   "metadata": {
    "id": "4c0614cb-2eda-4d24-966e-e745262cab79"
   },
   "outputs": [
    {
     "data": {
      "text/html": [
       "<div>\n",
       "<style scoped>\n",
       "    .dataframe tbody tr th:only-of-type {\n",
       "        vertical-align: middle;\n",
       "    }\n",
       "\n",
       "    .dataframe tbody tr th {\n",
       "        vertical-align: top;\n",
       "    }\n",
       "\n",
       "    .dataframe thead th {\n",
       "        text-align: right;\n",
       "    }\n",
       "</style>\n",
       "<table border=\"1\" class=\"dataframe\">\n",
       "  <thead>\n",
       "    <tr style=\"text-align: right;\">\n",
       "      <th></th>\n",
       "      <th>age</th>\n",
       "      <th>anaemia</th>\n",
       "      <th>creatinine_phosphokinase</th>\n",
       "      <th>diabetes</th>\n",
       "      <th>ejection_fraction</th>\n",
       "      <th>high_blood_pressure</th>\n",
       "      <th>platelets</th>\n",
       "      <th>serum_creatinine</th>\n",
       "      <th>serum_sodium</th>\n",
       "      <th>sex</th>\n",
       "      <th>smoking</th>\n",
       "      <th>DEATH_EVENT</th>\n",
       "    </tr>\n",
       "  </thead>\n",
       "  <tbody>\n",
       "    <tr>\n",
       "      <th>0</th>\n",
       "      <td>75.0</td>\n",
       "      <td>0</td>\n",
       "      <td>582</td>\n",
       "      <td>0</td>\n",
       "      <td>20</td>\n",
       "      <td>1</td>\n",
       "      <td>265000.00</td>\n",
       "      <td>1.9</td>\n",
       "      <td>130</td>\n",
       "      <td>1</td>\n",
       "      <td>0</td>\n",
       "      <td>1</td>\n",
       "    </tr>\n",
       "    <tr>\n",
       "      <th>1</th>\n",
       "      <td>55.0</td>\n",
       "      <td>0</td>\n",
       "      <td>7861</td>\n",
       "      <td>0</td>\n",
       "      <td>38</td>\n",
       "      <td>0</td>\n",
       "      <td>263358.03</td>\n",
       "      <td>1.1</td>\n",
       "      <td>136</td>\n",
       "      <td>1</td>\n",
       "      <td>0</td>\n",
       "      <td>1</td>\n",
       "    </tr>\n",
       "    <tr>\n",
       "      <th>2</th>\n",
       "      <td>65.0</td>\n",
       "      <td>0</td>\n",
       "      <td>146</td>\n",
       "      <td>0</td>\n",
       "      <td>20</td>\n",
       "      <td>0</td>\n",
       "      <td>162000.00</td>\n",
       "      <td>1.3</td>\n",
       "      <td>129</td>\n",
       "      <td>1</td>\n",
       "      <td>1</td>\n",
       "      <td>1</td>\n",
       "    </tr>\n",
       "    <tr>\n",
       "      <th>3</th>\n",
       "      <td>50.0</td>\n",
       "      <td>1</td>\n",
       "      <td>111</td>\n",
       "      <td>0</td>\n",
       "      <td>20</td>\n",
       "      <td>0</td>\n",
       "      <td>210000.00</td>\n",
       "      <td>1.9</td>\n",
       "      <td>137</td>\n",
       "      <td>1</td>\n",
       "      <td>0</td>\n",
       "      <td>1</td>\n",
       "    </tr>\n",
       "    <tr>\n",
       "      <th>4</th>\n",
       "      <td>65.0</td>\n",
       "      <td>1</td>\n",
       "      <td>160</td>\n",
       "      <td>1</td>\n",
       "      <td>20</td>\n",
       "      <td>0</td>\n",
       "      <td>327000.00</td>\n",
       "      <td>2.7</td>\n",
       "      <td>116</td>\n",
       "      <td>0</td>\n",
       "      <td>0</td>\n",
       "      <td>1</td>\n",
       "    </tr>\n",
       "    <tr>\n",
       "      <th>...</th>\n",
       "      <td>...</td>\n",
       "      <td>...</td>\n",
       "      <td>...</td>\n",
       "      <td>...</td>\n",
       "      <td>...</td>\n",
       "      <td>...</td>\n",
       "      <td>...</td>\n",
       "      <td>...</td>\n",
       "      <td>...</td>\n",
       "      <td>...</td>\n",
       "      <td>...</td>\n",
       "      <td>...</td>\n",
       "    </tr>\n",
       "    <tr>\n",
       "      <th>294</th>\n",
       "      <td>62.0</td>\n",
       "      <td>0</td>\n",
       "      <td>61</td>\n",
       "      <td>1</td>\n",
       "      <td>38</td>\n",
       "      <td>1</td>\n",
       "      <td>155000.00</td>\n",
       "      <td>1.1</td>\n",
       "      <td>143</td>\n",
       "      <td>1</td>\n",
       "      <td>1</td>\n",
       "      <td>0</td>\n",
       "    </tr>\n",
       "    <tr>\n",
       "      <th>295</th>\n",
       "      <td>55.0</td>\n",
       "      <td>0</td>\n",
       "      <td>1820</td>\n",
       "      <td>0</td>\n",
       "      <td>38</td>\n",
       "      <td>0</td>\n",
       "      <td>270000.00</td>\n",
       "      <td>1.2</td>\n",
       "      <td>139</td>\n",
       "      <td>0</td>\n",
       "      <td>0</td>\n",
       "      <td>0</td>\n",
       "    </tr>\n",
       "    <tr>\n",
       "      <th>296</th>\n",
       "      <td>45.0</td>\n",
       "      <td>0</td>\n",
       "      <td>2060</td>\n",
       "      <td>1</td>\n",
       "      <td>60</td>\n",
       "      <td>0</td>\n",
       "      <td>742000.00</td>\n",
       "      <td>0.8</td>\n",
       "      <td>138</td>\n",
       "      <td>0</td>\n",
       "      <td>0</td>\n",
       "      <td>0</td>\n",
       "    </tr>\n",
       "    <tr>\n",
       "      <th>297</th>\n",
       "      <td>45.0</td>\n",
       "      <td>0</td>\n",
       "      <td>2413</td>\n",
       "      <td>0</td>\n",
       "      <td>38</td>\n",
       "      <td>0</td>\n",
       "      <td>140000.00</td>\n",
       "      <td>1.4</td>\n",
       "      <td>140</td>\n",
       "      <td>1</td>\n",
       "      <td>1</td>\n",
       "      <td>0</td>\n",
       "    </tr>\n",
       "    <tr>\n",
       "      <th>298</th>\n",
       "      <td>50.0</td>\n",
       "      <td>0</td>\n",
       "      <td>196</td>\n",
       "      <td>0</td>\n",
       "      <td>45</td>\n",
       "      <td>0</td>\n",
       "      <td>395000.00</td>\n",
       "      <td>1.6</td>\n",
       "      <td>136</td>\n",
       "      <td>1</td>\n",
       "      <td>1</td>\n",
       "      <td>0</td>\n",
       "    </tr>\n",
       "  </tbody>\n",
       "</table>\n",
       "<p>299 rows × 12 columns</p>\n",
       "</div>"
      ],
      "text/plain": [
       "      age  anaemia  creatinine_phosphokinase  diabetes  ejection_fraction  \\\n",
       "0    75.0        0                       582         0                 20   \n",
       "1    55.0        0                      7861         0                 38   \n",
       "2    65.0        0                       146         0                 20   \n",
       "3    50.0        1                       111         0                 20   \n",
       "4    65.0        1                       160         1                 20   \n",
       "..    ...      ...                       ...       ...                ...   \n",
       "294  62.0        0                        61         1                 38   \n",
       "295  55.0        0                      1820         0                 38   \n",
       "296  45.0        0                      2060         1                 60   \n",
       "297  45.0        0                      2413         0                 38   \n",
       "298  50.0        0                       196         0                 45   \n",
       "\n",
       "     high_blood_pressure  platelets  serum_creatinine  serum_sodium  sex  \\\n",
       "0                      1  265000.00               1.9           130    1   \n",
       "1                      0  263358.03               1.1           136    1   \n",
       "2                      0  162000.00               1.3           129    1   \n",
       "3                      0  210000.00               1.9           137    1   \n",
       "4                      0  327000.00               2.7           116    0   \n",
       "..                   ...        ...               ...           ...  ...   \n",
       "294                    1  155000.00               1.1           143    1   \n",
       "295                    0  270000.00               1.2           139    0   \n",
       "296                    0  742000.00               0.8           138    0   \n",
       "297                    0  140000.00               1.4           140    1   \n",
       "298                    0  395000.00               1.6           136    1   \n",
       "\n",
       "     smoking  DEATH_EVENT  \n",
       "0          0            1  \n",
       "1          0            1  \n",
       "2          1            1  \n",
       "3          0            1  \n",
       "4          0            1  \n",
       "..       ...          ...  \n",
       "294        1            0  \n",
       "295        0            0  \n",
       "296        0            0  \n",
       "297        1            0  \n",
       "298        1            0  \n",
       "\n",
       "[299 rows x 12 columns]"
      ]
     },
     "execution_count": 2,
     "metadata": {},
     "output_type": "execute_result"
    }
   ],
   "source": [
    "path = 'default example' # Specify the filepath here\n",
    "test_size = 0.25 # You may adjust this value to change the train/test split ratio\n",
    "\n",
    "df = load_data(path)\n",
    "df"
   ]
  },
  {
   "cell_type": "markdown",
   "metadata": {
    "id": "a7147c46-63e1-495a-b10e-2b7b88f999e7"
   },
   "source": [
    "### Variables"
   ]
  },
  {
   "cell_type": "code",
   "connections": [
    {
     "endLine": 2,
     "id": "d5802613-9f5f-4005-937d-befb96d5619d",
     "startLine": 2
    }
   ],
   "execution_count": 3,
   "metadata": {
    "id": "4ac40434-c06d-4f78-a636-2fb308db65d9"
   },
   "outputs": [],
   "source": [
    "# Specify exactly the names of the dependent variables (aka variables you wish to predict)\n",
    "target = ['target'] # eg. ['variable1', 'variable2']"
   ]
  },
  {
   "cell_type": "code",
   "connections": [
    {
     "endLine": 2,
     "id": "dd73a9f1-2716-481f-ab52-d3cb8a0b24c3",
     "startLine": 2
    }
   ],
   "execution_count": null,
   "metadata": {
    "id": "ea5c1e27-50a1-4da6-bb05-702c0208ad94"
   },
   "outputs": [],
   "source": [
    "# For manual reduction\n",
    "variables_to_remove = ['bmi'] # eg. ['variable1'] or empty list [] if none to remove"
   ]
  },
  {
   "cell_type": "markdown",
   "connections": [],
   "execution_count": 0,
   "metadata": {
    "id": "2c35ed87-cbd7-472e-b87a-8b24c3a8093e"
   },
   "outputs": [],
   "source": [
    "### Train"
   ]
  },
  {
   "cell_type": "code",
   "connections": [
    {
     "endLine": 1,
     "id": "1ca222a5-ff28-4c76-8d54-34de1fd6b297",
     "startLine": 1
    }
   ],
   "execution_count": null,
   "metadata": {
    "id": "9b2fee9f-4daf-4f65-92eb-f6922ed20e97"
   },
   "outputs": [],
   "source": [
    "%run -i regression_exec"
   ]
  },
  {
   "cell_type": "code",
   "connections": [
    {
     "endLine": 1,
     "id": "53829ab3-ca3c-44c1-816f-467e90d884fc",
     "startLine": 1
    }
   ],
   "execution_count": null,
   "metadata": {
    "id": "3f608b12-c4a7-4f3c-a72a-9319eba34c7a"
   },
   "outputs": [],
   "source": [
    "show_results()"
   ]
  },
  {
   "cell_type": "markdown",
   "connections": [],
   "execution_count": 0,
   "metadata": {
    "id": "4b09ca69-3e91-4808-8185-faafaeac789e"
   },
   "outputs": [],
   "source": [
    "### Predict"
   ]
  },
  {
   "cell_type": "code",
   "connections": [
    {
     "endLine": 2,
     "id": "85591418-8977-4ae5-a7d7-3eb993366788",
     "startLine": 2
    }
   ],
   "execution_count": null,
   "metadata": {
    "id": "29b8e3df-e40d-45d7-85ff-b6412d3afa51"
   },
   "outputs": [],
   "source": [
    "from regression_predict import predict\n",
    "predict(df[labels], target_labels)"
   ]
  },
  {
   "cell_type": "code",
   "execution_count": null,
   "metadata": {
    "id": "67430f29-d445-4721-8dfd-16b5ac5a592c"
   },
   "outputs": [],
   "source": []
  }
 ],
 "metadata": {
  "kernelspec": {
   "display_name": "",
   "name": ""
  },
  "language_info": {
   "name": ""
  }
 },
 "nbformat": 4,
 "nbformat_minor": 4
}
