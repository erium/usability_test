{
 "cells": [
  {
   "cell_type": "markdown",
   "metadata": {
    "id": "8782724a-4360-4f93-abd9-d543a3a1fe75"
   },
   "source": [
    "# Regression\n",
    "\n",
    "This is a template notebook for regression modelling.\n",
    "\n",
    "Author: {{ cookiecutter.author_name }}\n",
    "Created: {{ cookiecutter.timestamp }}\n"
   ]
  },
  {
   "cell_type": "markdown",
   "metadata": {
    "id": "1f4cc870-9da7-4624-90bb-04617664fab1"
   },
   "source": [
    "## How to use the notebook\n",
    "\n",
    "The following cells:\n",
    "- specify objective, variables, and variable types,\n",
    "- set up the regression models,\n",
    "- read dataset,\n",
    "- present results from the model,\n",
    "- provide the model with the best performance.\n",
    "\n",
    "By default, the notebook is set up to run with an example (sklearn diabetes). To see how it works, run the notebook without changing the code.\n",
    "\n",
    "For your project, adjust the code in the linked cells with your objectives, variables, dataset etc. and then execute all cells in order.\n",
    "\n",
    "Please refer to regression.board for detailed instructions."
   ]
  },
  {
   "cell_type": "markdown",
   "metadata": {
    "id": "52dec34e-2f1b-4037-962d-ffcc6e18fb60"
   },
   "source": [
    "## Parameter Setup\n",
    "The following parameters and variables should be adjusted based on your data and experimental objectives"
   ]
  },
  {
   "cell_type": "markdown",
   "metadata": {
    "id": "ea1ee863-4786-453e-a48e-5c1166eeccb9"
   },
   "source": [
    "### Project"
   ]
  },
  {
   "cell_type": "code",
   "execution_count": null,
   "metadata": {
    "id": "33549e34-886f-4649-b660-f6a739be866a"
   },
   "outputs": [],
   "source": [
    "experiment_name = 'regression'  # please provide a name for the regression experiment\n",
    "from regression_imports import *"
   ]
  },
  {
   "cell_type": "markdown",
   "metadata": {
    "id": "4c39011a-6794-4f79-8f68-d61320ec8858"
   },
   "source": [
    "### Dataset"
   ]
  },
  {
   "cell_type": "code",
   "execution_count": null,
   "metadata": {
    "id": "4c0614cb-2eda-4d24-966e-e745262cab79"
   },
   "outputs": [],
   "source": [
    "path = 'default example' # Specify the filepath here\n",
    "test_size = 0.25 # You may adjust this value to change the train/test split ratio\n",
    "\n",
    "df = load_data(path)\n",
    "df"
   ]
  },
  {
   "cell_type": "markdown",
   "metadata": {
    "id": "a7147c46-63e1-495a-b10e-2b7b88f999e7"
   },
   "source": [
    "### Variables"
   ]
  },
  {
   "cell_type": "code",
   "execution_count": null,
   "metadata": {
    "id": "4ac40434-c06d-4f78-a636-2fb308db65d9"
   },
   "outputs": [],
   "source": [
    "# Specify exactly the names of the dependent variables (aka variables you wish to predict)\n",
    "target = ['target'] # eg. ['variable1', 'variable2']"
   ]
  },
  {
   "cell_type": "markdown",
   "metadata": {
    "id": "a3dbfeb9-ae92-49b4-97f9-ec87e7e16849"
   },
   "source": [
    "Reduction Method"
   ]
  },
  {
   "cell_type": "code",
   "execution_count": null,
   "metadata": {
    "id": "ea5c1e27-50a1-4da6-bb05-702c0208ad94"
   },
   "outputs": [],
   "source": [
    "# For manual reduction\n",
    "variables_to_remove = ['bmi'] # eg. ['variable1'] or empty list [] if none to remove"
   ]
  },
  {
   "cell_type": "code",
   "execution_count": null,
   "metadata": {
    "id": "9b2fee9f-4daf-4f65-92eb-f6922ed20e97"
   },
   "outputs": [],
   "source": [
    "%run -i regression_exec"
   ]
  },
  {
   "cell_type": "code",
   "execution_count": null,
   "metadata": {
    "id": "3f608b12-c4a7-4f3c-a72a-9319eba34c7a"
   },
   "outputs": [],
   "source": [
    "show_results()"
   ]
  },
  {
   "cell_type": "code",
   "execution_count": null,
   "metadata": {
    "id": "29b8e3df-e40d-45d7-85ff-b6412d3afa51"
   },
   "outputs": [],
   "source": [
    "from regression_predict import predict\n",
    "predict(df[labels], target_labels)"
   ]
  },
  {
   "cell_type": "code",
   "execution_count": null,
   "metadata": {
    "id": "67430f29-d445-4721-8dfd-16b5ac5a592c"
   },
   "outputs": [],
   "source": []
  }
 ],
 "metadata": {
  "kernelspec": {
   "display_name": "",
   "name": ""
  },
  "language_info": {
   "name": ""
  }
 },
 "nbformat": 4,
 "nbformat_minor": 4
}
